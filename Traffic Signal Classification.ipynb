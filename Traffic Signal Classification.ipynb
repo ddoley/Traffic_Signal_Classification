{
 "cells": [
  {
   "cell_type": "code",
   "execution_count": 69,
   "id": "026e291a",
   "metadata": {},
   "outputs": [],
   "source": [
    "import numpy as np\n",
    "import pandas as pd\n",
    "import matplotlib.pyplot as plt\n",
    "import cv2\n",
    "import tensorflow as tf\n",
    "from PIL import Image\n",
    "import os\n",
    "os.chdir('E:\\FTE\\Projects\\DL\\Traffic_Signal_Recognition')\n",
    "from sklearn.model_selection import train_test_split\n",
    "from keras.utils import to_categorical\n",
    "from keras.models import Sequential, load_model\n",
    "from keras.layers import Conv2D, MaxPool2D, Dense, Flatten, Dropout"
   ]
  },
  {
   "cell_type": "markdown",
   "id": "4f457da6",
   "metadata": {},
   "source": [
    "## Store data, labels in the list"
   ]
  },
  {
   "cell_type": "code",
   "execution_count": 70,
   "id": "1fb7d9e8",
   "metadata": {},
   "outputs": [],
   "source": [
    "data=[]\n",
    "labels=[]\n",
    "#we have 43 classes\n",
    "classes=43\n",
    "cur_path=os.getcwd()"
   ]
  },
  {
   "cell_type": "code",
   "execution_count": 71,
   "id": "c20f387b",
   "metadata": {},
   "outputs": [
    {
     "data": {
      "text/plain": [
       "'E:\\\\FTE\\\\Projects\\\\DL\\\\Traffic_Signal_Recognition'"
      ]
     },
     "execution_count": 71,
     "metadata": {},
     "output_type": "execute_result"
    }
   ],
   "source": [
    "cur_path"
   ]
  },
  {
   "cell_type": "markdown",
   "id": "3dd09a32",
   "metadata": {},
   "source": [
    " ## Preprocessing the Image"
   ]
  },
  {
   "cell_type": "code",
   "execution_count": 72,
   "id": "c8c10bf7",
   "metadata": {},
   "outputs": [],
   "source": [
    "for i in range(classes):\n",
    "    path=os.path.join(cur_path,'train',str(i))\n",
    "    images=os.listdir(path)\n",
    "    for a in images:\n",
    "        try:\n",
    "            image=Image.open(path + '\\\\' + a)\n",
    "            image=image.resize((30,30))\n",
    "            #now convert the image into array then append into list\n",
    "            image=np.array(image)\n",
    "            data.append(image)   \n",
    "            labels.append(i)    \n",
    "        except Exception as e:\n",
    "            print(e)"
   ]
  },
  {
   "cell_type": "markdown",
   "id": "94c94262",
   "metadata": {},
   "source": [
    "## Converting lists into numpy arrays"
   ]
  },
  {
   "cell_type": "code",
   "execution_count": 73,
   "id": "5c5bb7bc",
   "metadata": {},
   "outputs": [],
   "source": [
    "data=np.array(data)\n",
    "labels=np.array(labels)"
   ]
  },
  {
   "cell_type": "markdown",
   "id": "bc1a38bd",
   "metadata": {},
   "source": [
    "## Save data & labels for further use"
   ]
  },
  {
   "cell_type": "code",
   "execution_count": 74,
   "id": "fbc80b63",
   "metadata": {},
   "outputs": [],
   "source": [
    "# os.mkdir('Training')\n",
    "np.save('E:/FTE/Projects/DL/Traffic_Signal_Recognition/Training/data',data)\n",
    "np.save('E:/FTE/Projects/DL/Traffic_Signal_Recognition/Training/target',labels)"
   ]
  },
  {
   "cell_type": "code",
   "execution_count": 75,
   "id": "50e07a29",
   "metadata": {},
   "outputs": [],
   "source": [
    "data=np.load('E:/FTE/Projects/DL/Traffic_Signal_Recognition/Training/data.npy')\n",
    "labels=np.load('E:/FTE/Projects/DL/Traffic_Signal_Recognition/Training/target.npy')"
   ]
  },
  {
   "cell_type": "markdown",
   "id": "660b658d",
   "metadata": {},
   "source": [
    "- Since processing the image again and again takes time so we save the image data for further reference"
   ]
  },
  {
   "cell_type": "code",
   "execution_count": 76,
   "id": "14913195",
   "metadata": {},
   "outputs": [
    {
     "name": "stdout",
     "output_type": "stream",
     "text": [
      "(39209, 30, 30, 3) (39209,)\n"
     ]
    }
   ],
   "source": [
    "print(data.shape,labels.shape)"
   ]
  },
  {
   "cell_type": "markdown",
   "id": "fdf24763",
   "metadata": {},
   "source": [
    "## Splitting the data for Training and Testing"
   ]
  },
  {
   "cell_type": "code",
   "execution_count": 77,
   "id": "82fc0522",
   "metadata": {},
   "outputs": [],
   "source": [
    "x_train,x_test,y_train,y_test=train_test_split(data,labels,test_size=0.2,random_state=0)"
   ]
  },
  {
   "cell_type": "code",
   "execution_count": 78,
   "id": "5f35fb98",
   "metadata": {},
   "outputs": [
    {
     "name": "stdout",
     "output_type": "stream",
     "text": [
      "(31367, 30, 30, 3) (7842, 30, 30, 3) (31367,) (7842,)\n"
     ]
    }
   ],
   "source": [
    "print(x_train.shape,x_test.shape,y_train.shape,y_test.shape)"
   ]
  },
  {
   "cell_type": "code",
   "execution_count": 79,
   "id": "87e13665",
   "metadata": {},
   "outputs": [
    {
     "data": {
      "text/plain": [
       "array([ 5,  4, 35, ..., 26, 13,  2])"
      ]
     },
     "execution_count": 79,
     "metadata": {},
     "output_type": "execute_result"
    }
   ],
   "source": [
    "y_train"
   ]
  },
  {
   "cell_type": "markdown",
   "id": "436ff506",
   "metadata": {},
   "source": [
    "## Convert labels to onehot encoding"
   ]
  },
  {
   "cell_type": "code",
   "execution_count": 80,
   "id": "aec4c3ea",
   "metadata": {},
   "outputs": [],
   "source": [
    "y_train=to_categorical(y_train,43)\n",
    "y_test=to_categorical(y_test,43)"
   ]
  },
  {
   "cell_type": "code",
   "execution_count": 81,
   "id": "f8f69a82",
   "metadata": {},
   "outputs": [
    {
     "data": {
      "text/plain": [
       "array([[0., 0., 0., ..., 0., 0., 0.],\n",
       "       [0., 0., 0., ..., 0., 0., 0.],\n",
       "       [0., 0., 0., ..., 0., 0., 0.],\n",
       "       ...,\n",
       "       [0., 0., 0., ..., 0., 0., 0.],\n",
       "       [0., 0., 0., ..., 0., 0., 0.],\n",
       "       [0., 0., 1., ..., 0., 0., 0.]])"
      ]
     },
     "execution_count": 81,
     "metadata": {},
     "output_type": "execute_result"
    }
   ],
   "source": [
    "y_train"
   ]
  },
  {
   "cell_type": "markdown",
   "id": "550ce27b",
   "metadata": {},
   "source": [
    "## Now it's time to build the model"
   ]
  },
  {
   "cell_type": "code",
   "execution_count": 82,
   "id": "ac589dbe",
   "metadata": {},
   "outputs": [],
   "source": [
    "model=Sequential()\n",
    "model.add(Conv2D(filters=32,kernel_size=(5,5), activation='relu',input_shape=x_train.shape[1:]))\n",
    "model.add(Conv2D(filters=32,kernel_size=(5,5), activation='relu'))\n",
    "model.add(MaxPool2D(pool_size=(2,2)))\n",
    "model.add(Dropout(rate=0.25))\n",
    "model.add(Conv2D(filters=64, kernel_size=(3,3), activation='relu'))\n",
    "model.add(Conv2D(filters=64, kernel_size=(3,3), activation='relu'))\n",
    "model.add(MaxPool2D(pool_size=(2,2)))\n",
    "model.add(Dropout(rate=0.25))\n",
    "model.add(Flatten())\n",
    "model.add(Dense(256, activation='relu'))\n",
    "model.add(Dropout(rate=0.5))\n",
    "#Since we have 43 classes that's why we have defined 43 in the dense\n",
    "model.add(Dense(43, activation='softmax'))"
   ]
  },
  {
   "cell_type": "code",
   "execution_count": 83,
   "id": "ec5bc21a",
   "metadata": {},
   "outputs": [],
   "source": [
    "#COmpilation of the model\n",
    "model.compile(loss='categorical_crossentropy',optimizer='adam',metrics=['accuracy'])\n",
    "#for better accuracy we can change the optimizer and loss"
   ]
  },
  {
   "cell_type": "markdown",
   "id": "61a4b9aa",
   "metadata": {},
   "source": [
    "### Train the model"
   ]
  },
  {
   "cell_type": "code",
   "execution_count": 84,
   "id": "16bdb16d",
   "metadata": {},
   "outputs": [
    {
     "name": "stdout",
     "output_type": "stream",
     "text": [
      "Epoch 1/20\n",
      "\u001b[1m981/981\u001b[0m \u001b[32m━━━━━━━━━━━━━━━━━━━━\u001b[0m\u001b[37m\u001b[0m \u001b[1m27s\u001b[0m 25ms/step - accuracy: 0.3069 - loss: 3.4401 - val_accuracy: 0.9190 - val_loss: 0.3853\n",
      "Epoch 2/20\n",
      "\u001b[1m981/981\u001b[0m \u001b[32m━━━━━━━━━━━━━━━━━━━━\u001b[0m\u001b[37m\u001b[0m \u001b[1m23s\u001b[0m 24ms/step - accuracy: 0.8105 - loss: 0.6682 - val_accuracy: 0.9580 - val_loss: 0.1690\n",
      "Epoch 3/20\n",
      "\u001b[1m981/981\u001b[0m \u001b[32m━━━━━━━━━━━━━━━━━━━━\u001b[0m\u001b[37m\u001b[0m \u001b[1m24s\u001b[0m 24ms/step - accuracy: 0.8911 - loss: 0.3861 - val_accuracy: 0.9735 - val_loss: 0.0950\n",
      "Epoch 4/20\n",
      "\u001b[1m981/981\u001b[0m \u001b[32m━━━━━━━━━━━━━━━━━━━━\u001b[0m\u001b[37m\u001b[0m \u001b[1m24s\u001b[0m 25ms/step - accuracy: 0.9145 - loss: 0.2925 - val_accuracy: 0.9730 - val_loss: 0.1038\n",
      "Epoch 5/20\n",
      "\u001b[1m981/981\u001b[0m \u001b[32m━━━━━━━━━━━━━━━━━━━━\u001b[0m\u001b[37m\u001b[0m \u001b[1m26s\u001b[0m 26ms/step - accuracy: 0.9247 - loss: 0.2674 - val_accuracy: 0.9810 - val_loss: 0.0703\n",
      "Epoch 6/20\n",
      "\u001b[1m981/981\u001b[0m \u001b[32m━━━━━━━━━━━━━━━━━━━━\u001b[0m\u001b[37m\u001b[0m \u001b[1m25s\u001b[0m 25ms/step - accuracy: 0.9374 - loss: 0.2311 - val_accuracy: 0.9818 - val_loss: 0.0685\n",
      "Epoch 7/20\n",
      "\u001b[1m981/981\u001b[0m \u001b[32m━━━━━━━━━━━━━━━━━━━━\u001b[0m\u001b[37m\u001b[0m \u001b[1m23s\u001b[0m 24ms/step - accuracy: 0.9357 - loss: 0.2407 - val_accuracy: 0.9843 - val_loss: 0.0538\n",
      "Epoch 8/20\n",
      "\u001b[1m981/981\u001b[0m \u001b[32m━━━━━━━━━━━━━━━━━━━━\u001b[0m\u001b[37m\u001b[0m \u001b[1m24s\u001b[0m 24ms/step - accuracy: 0.9434 - loss: 0.2169 - val_accuracy: 0.9856 - val_loss: 0.0540\n",
      "Epoch 9/20\n",
      "\u001b[1m981/981\u001b[0m \u001b[32m━━━━━━━━━━━━━━━━━━━━\u001b[0m\u001b[37m\u001b[0m \u001b[1m24s\u001b[0m 24ms/step - accuracy: 0.9420 - loss: 0.2250 - val_accuracy: 0.9878 - val_loss: 0.0540\n",
      "Epoch 10/20\n",
      "\u001b[1m981/981\u001b[0m \u001b[32m━━━━━━━━━━━━━━━━━━━━\u001b[0m\u001b[37m\u001b[0m \u001b[1m24s\u001b[0m 24ms/step - accuracy: 0.9485 - loss: 0.2010 - val_accuracy: 0.9879 - val_loss: 0.0532\n",
      "Epoch 11/20\n",
      "\u001b[1m981/981\u001b[0m \u001b[32m━━━━━━━━━━━━━━━━━━━━\u001b[0m\u001b[37m\u001b[0m \u001b[1m24s\u001b[0m 24ms/step - accuracy: 0.9370 - loss: 0.2556 - val_accuracy: 0.9839 - val_loss: 0.0659\n",
      "Epoch 12/20\n",
      "\u001b[1m981/981\u001b[0m \u001b[32m━━━━━━━━━━━━━━━━━━━━\u001b[0m\u001b[37m\u001b[0m \u001b[1m23s\u001b[0m 24ms/step - accuracy: 0.9373 - loss: 0.2536 - val_accuracy: 0.9872 - val_loss: 0.0528\n",
      "Epoch 13/20\n",
      "\u001b[1m981/981\u001b[0m \u001b[32m━━━━━━━━━━━━━━━━━━━━\u001b[0m\u001b[37m\u001b[0m \u001b[1m24s\u001b[0m 24ms/step - accuracy: 0.9555 - loss: 0.1755 - val_accuracy: 0.9875 - val_loss: 0.0582\n",
      "Epoch 14/20\n",
      "\u001b[1m981/981\u001b[0m \u001b[32m━━━━━━━━━━━━━━━━━━━━\u001b[0m\u001b[37m\u001b[0m \u001b[1m24s\u001b[0m 24ms/step - accuracy: 0.9576 - loss: 0.1876 - val_accuracy: 0.9836 - val_loss: 0.0709\n",
      "Epoch 15/20\n",
      "\u001b[1m981/981\u001b[0m \u001b[32m━━━━━━━━━━━━━━━━━━━━\u001b[0m\u001b[37m\u001b[0m \u001b[1m24s\u001b[0m 24ms/step - accuracy: 0.9532 - loss: 0.1946 - val_accuracy: 0.9810 - val_loss: 0.0757\n",
      "Epoch 16/20\n",
      "\u001b[1m981/981\u001b[0m \u001b[32m━━━━━━━━━━━━━━━━━━━━\u001b[0m\u001b[37m\u001b[0m \u001b[1m27s\u001b[0m 27ms/step - accuracy: 0.9493 - loss: 0.2127 - val_accuracy: 0.9878 - val_loss: 0.0547\n",
      "Epoch 17/20\n",
      "\u001b[1m981/981\u001b[0m \u001b[32m━━━━━━━━━━━━━━━━━━━━\u001b[0m\u001b[37m\u001b[0m \u001b[1m25s\u001b[0m 26ms/step - accuracy: 0.9535 - loss: 0.2067 - val_accuracy: 0.9699 - val_loss: 0.1184\n",
      "Epoch 18/20\n",
      "\u001b[1m981/981\u001b[0m \u001b[32m━━━━━━━━━━━━━━━━━━━━\u001b[0m\u001b[37m\u001b[0m \u001b[1m24s\u001b[0m 24ms/step - accuracy: 0.9472 - loss: 0.2441 - val_accuracy: 0.9853 - val_loss: 0.0663\n",
      "Epoch 19/20\n",
      "\u001b[1m981/981\u001b[0m \u001b[32m━━━━━━━━━━━━━━━━━━━━\u001b[0m\u001b[37m\u001b[0m \u001b[1m24s\u001b[0m 24ms/step - accuracy: 0.9569 - loss: 0.2002 - val_accuracy: 0.9898 - val_loss: 0.0530\n",
      "Epoch 20/20\n",
      "\u001b[1m981/981\u001b[0m \u001b[32m━━━━━━━━━━━━━━━━━━━━\u001b[0m\u001b[37m\u001b[0m \u001b[1m24s\u001b[0m 25ms/step - accuracy: 0.9592 - loss: 0.1932 - val_accuracy: 0.9853 - val_loss: 0.0644\n"
     ]
    }
   ],
   "source": [
    "epochs=20\n",
    "history=model.fit(x_train,y_train,batch_size=32, epochs=epochs, validation_data=(x_test,y_test))"
   ]
  },
  {
   "cell_type": "code",
   "execution_count": 85,
   "id": "5f9e31c6",
   "metadata": {},
   "outputs": [
    {
     "data": {
      "image/png": "[encoded data removed]",
      "text/plain": [
       "<Figure size 640x480 with 1 Axes>"
      ]
     },
     "metadata": {},
     "output_type": "display_data"
    }
   ],
   "source": [
    "#Accuracy\n",
    "plt.figure(0)\n",
    "plt.plot(history.history['accuracy'],label='training accuracy')\n",
    "plt.plot(history.history['val_accuracy'],label='val accuracy')\n",
    "plt.title('Accuracy')\n",
    "plt.xlabel('epochs')\n",
    "plt.ylabel('accuracy')\n",
    "plt.legend()\n",
    "plt.show()"
   ]
  },
  {
   "cell_type": "markdown",
   "id": "9d9ca490",
   "metadata": {},
   "source": [
    "### Let's do testing on Test Data"
   ]
  },
  {
   "cell_type": "code",
   "execution_count": 86,
   "id": "b0afa779",
   "metadata": {},
   "outputs": [],
   "source": [
    "def testing(testcsv):\n",
    "    y_test=pd.read_csv(testcsv)\n",
    "    label=y_test['ClassId'].values\n",
    "    imgs=y_test[\"Path\"].values\n",
    "    data=[]\n",
    "    for img in imgs:\n",
    "        image=Image.open(img)\n",
    "        image=image.resize((30,30))\n",
    "        data.append(np.array(image))\n",
    "    x_test=np.array(data)\n",
    "    return x_test,label"
   ]
  },
  {
   "cell_type": "code",
   "execution_count": 87,
   "id": "e33e80c8",
   "metadata": {},
   "outputs": [],
   "source": [
    "x_test, label=testing('Test.csv')"
   ]
  },
  {
   "cell_type": "code",
   "execution_count": 88,
   "id": "0453b231",
   "metadata": {},
   "outputs": [
    {
     "name": "stdout",
     "output_type": "stream",
     "text": [
      "\u001b[1m395/395\u001b[0m \u001b[32m━━━━━━━━━━━━━━━━━━━━\u001b[0m\u001b[37m\u001b[0m \u001b[1m4s\u001b[0m 9ms/step\n"
     ]
    },
    {
     "data": {
      "text/plain": [
       "array([16,  1, 38, ...,  6,  7, 10], dtype=int64)"
      ]
     },
     "execution_count": 88,
     "metadata": {},
     "output_type": "execute_result"
    }
   ],
   "source": [
    "y_pred = np.argmax(model.predict(x_test), axis=-1)\n",
    "y_pred"
   ]
  },
  {
   "cell_type": "markdown",
   "id": "786d10f9",
   "metadata": {},
   "source": [
    "## Accuracy with the test data"
   ]
  },
  {
   "cell_type": "code",
   "execution_count": 89,
   "id": "949c2d1b",
   "metadata": {},
   "outputs": [
    {
     "name": "stdout",
     "output_type": "stream",
     "text": [
      "0.957403008709422\n"
     ]
    }
   ],
   "source": [
    "from sklearn.metrics import accuracy_score\n",
    "print(accuracy_score(label,y_pred))"
   ]
  },
  {
   "cell_type": "markdown",
   "id": "40bef1dc",
   "metadata": {},
   "source": [
    "### Save the model"
   ]
  },
  {
   "cell_type": "code",
   "execution_count": 90,
   "id": "1c9203ce",
   "metadata": {},
   "outputs": [],
   "source": [
    "model.save('E:/FTE/Projects/DL/Traffic_Signal_Recognition/Training/TRS.keras')"
   ]
  },
  {
   "cell_type": "markdown",
   "id": "073c78e8",
   "metadata": {},
   "source": [
    "### Load the Model"
   ]
  },
  {
   "cell_type": "code",
   "execution_count": 91,
   "id": "a5b06cab",
   "metadata": {},
   "outputs": [
    {
     "name": "stderr",
     "output_type": "stream",
     "text": [
      "WARNING:absl:Compiled the loaded model, but the compiled metrics have yet to be built. `model.compile_metrics` will be empty until you train or evaluate the model.\n"
     ]
    }
   ],
   "source": [
    "import os\n",
    "os.chdir(r'E:\\FTE\\Projects\\DL\\Traffic_Signal_Recognition')\n",
    "from keras.models import load_model\n",
    "model= load_model('E:/FTE/Projects/DL/Traffic_Signal_Recognition/Training/TRS.h5')"
   ]
  },
  {
   "cell_type": "code",
   "execution_count": 98,
   "id": "74fec014",
   "metadata": {},
   "outputs": [
    {
     "name": "stderr",
     "output_type": "stream",
     "text": [
      "WARNING:absl:Compiled the loaded model, but the compiled metrics have yet to be built. `model.compile_metrics` will be empty until you train or evaluate the model.\n"
     ]
    },
    {
     "name": "stdout",
     "output_type": "stream",
     "text": [
      "\u001b[1m1/1\u001b[0m \u001b[32m━━━━━━━━━━━━━━━━━━━━\u001b[0m\u001b[37m\u001b[0m \u001b[1m0s\u001b[0m 160ms/step\n"
     ]
    },
    {
     "data": {
      "image/png": "[encoded data removed]",
      "text/plain": [
       "<Figure size 640x480 with 1 Axes>"
      ]
     },
     "metadata": {},
     "output_type": "display_data"
    }
   ],
   "source": [
    "import numpy as np\n",
    "import matplotlib.pyplot as plt\n",
    "from tensorflow.keras.models import load_model\n",
    "from PIL import Image\n",
    "\n",
    "# Dictionary of traffic signs\n",
    "classes = {0: 'Speed limit (20km/h)', 1: 'Speed limit (30km/h)', 2: 'Speed limit (50km/h)', \n",
    "           3: 'Speed limit (60km/h)', 4: 'Speed limit (70km/h)', 5: 'Speed limit (80km/h)', \n",
    "           6: 'End of speed limit (80km/h)', 7: 'Speed limit (100km/h)', 8: 'Speed limit (120km/h)', \n",
    "           9: 'No passing', 10: 'No passing veh over 3.5 tons', 11: 'Right-of-way at intersection', \n",
    "           12: 'Priority road', 13: 'Yield', 14: 'Stop', 15: 'No vehicles', \n",
    "           16: 'Veh > 3.5 tons prohibited', 17: 'No entry', 18: 'General caution', \n",
    "           19: 'Dangerous curve left', 20: 'Dangerous curve right', 21: 'Double curve', \n",
    "           22: 'Bumpy road', 23: 'Slippery road', 24: 'Road narrows on the right', \n",
    "           25: 'Road work', 26: 'Traffic signals', 27: 'Pedestrians', 28: 'Children crossing', \n",
    "           29: 'Bicycles crossing', 30: 'Beware of ice/snow', 31: 'Wild animals crossing', \n",
    "           32: 'End speed + passing limits', 33: 'Turn right ahead', 34: 'Turn left ahead', \n",
    "           35: 'Ahead only', 36: 'Go straight or right', 37: 'Go straight or left', \n",
    "           38: 'Keep right', 39: 'Keep left', 40: 'Roundabout mandatory', \n",
    "           41: 'End of no passing', 42: 'End no passing veh > 3.5 tons'}\n",
    "\n",
    "def image_processing(img_path):\n",
    "    # Load the model\n",
    "    model = load_model('E:/FTE/Projects/DL/Traffic_Signal_Recognition/Training/TRS.h5')\n",
    "    \n",
    "    # Open, resize, and preprocess the image\n",
    "    image = Image.open(img_path)\n",
    "    image = image.resize((30, 30))\n",
    "    image = np.expand_dims(image, axis=0)\n",
    "    image = np.array(image)\n",
    "    \n",
    "    # Make prediction\n",
    "    prediction = model.predict(image)\n",
    "    predicted_class = np.argmax(prediction, axis=1)[0]\n",
    "    \n",
    "    # Get the class name from the dictionary\n",
    "    sign = classes[predicted_class]\n",
    "    \n",
    "    # Display the image and the predicted class\n",
    "    plt.imshow(Image.open(img_path))\n",
    "    plt.title(f\"Predicted traffic sign is: {sign}\")\n",
    "    plt.axis('off')\n",
    "    plt.show()\n",
    "\n",
    "# Call the function with the test image path\n",
    "image_processing(r'E:/FTE/Projects/DL/Traffic_Signal_Recognition/Test/00214.png')\n"
   ]
  }
 ],
 "metadata": {
  "kernelspec": {
   "display_name": "Python 3 (ipykernel)",
   "language": "python",
   "name": "python3"
  },
  "language_info": {
   "codemirror_mode": {
    "name": "ipython",
    "version": 3
   },
   "file_extension": ".py",
   "mimetype": "text/x-python",
   "name": "python",
   "nbconvert_exporter": "python",
   "pygments_lexer": "ipython3",
   "version": "3.10.9"
  }
 },
 "nbformat": 4,
 "nbformat_minor": 5
}
